{
 "cells": [
  {
   "cell_type": "code",
   "execution_count": 1,
   "id": "1261a428",
   "metadata": {
    "_cell_guid": "b1076dfc-b9ad-4769-8c92-a6c4dae69d19",
    "_uuid": "8f2839f25d086af736a60e9eeb907d3b93b6e0e5",
    "execution": {
     "iopub.execute_input": "2025-02-15T19:04:14.050390Z",
     "iopub.status.busy": "2025-02-15T19:04:14.050024Z",
     "iopub.status.idle": "2025-02-15T19:04:14.055692Z",
     "shell.execute_reply": "2025-02-15T19:04:14.054687Z"
    },
    "papermill": {
     "duration": 0.009728,
     "end_time": "2025-02-15T19:04:14.057200",
     "exception": false,
     "start_time": "2025-02-15T19:04:14.047472",
     "status": "completed"
    },
    "tags": []
   },
   "outputs": [],
   "source": [
    "# working on assignment-01"
   ]
  }
 ],
 "metadata": {
  "kaggle": {
   "accelerator": "none",
   "dataSources": [],
   "isGpuEnabled": false,
   "isInternetEnabled": false,
   "language": "python",
   "sourceType": "notebook"
  },
  "kernelspec": {
   "display_name": "Python 3",
   "language": "python",
   "name": "python3"
  },
  "language_info": {
   "codemirror_mode": {
    "name": "ipython",
    "version": 3
   },
   "file_extension": ".py",
   "mimetype": "text/x-python",
   "name": "python",
   "nbconvert_exporter": "python",
   "pygments_lexer": "ipython3",
   "version": "3.10.12"
  },
  "papermill": {
   "default_parameters": {},
   "duration": 2.575862,
   "end_time": "2025-02-15T19:04:14.478704",
   "environment_variables": {},
   "exception": null,
   "input_path": "__notebook__.ipynb",
   "output_path": "__notebook__.ipynb",
   "parameters": {},
   "start_time": "2025-02-15T19:04:11.902842",
   "version": "2.6.0"
  }
 },
 "nbformat": 4,
 "nbformat_minor": 5
}
